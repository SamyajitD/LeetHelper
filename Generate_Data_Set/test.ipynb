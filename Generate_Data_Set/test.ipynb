{
 "cells": [
  {
   "cell_type": "markdown",
   "metadata": {},
   "source": [
    "Generating the required vector database"
   ]
  },
  {
   "cell_type": "code",
   "execution_count": 99,
   "metadata": {},
   "outputs": [],
   "source": [
    "\n",
    "#import libraries\n",
    "import openai\n",
    "import langchain\n",
    "import pandas as pd\n",
    "import numpy as nm\n",
    "from langchain_community.document_loaders import PyPDFLoader\n",
    "from langchain_openai import OpenAIEmbeddings\n",
    "from langchain_pinecone import PineconeVectorStore"
   ]
  },
  {
   "cell_type": "code",
   "execution_count": 100,
   "metadata": {},
   "outputs": [
    {
     "data": {
      "text/plain": [
       "True"
      ]
     },
     "execution_count": 100,
     "metadata": {},
     "output_type": "execute_result"
    }
   ],
   "source": [
    "from dotenv import load_dotenv\n",
    "load_dotenv()"
   ]
  },
  {
   "cell_type": "code",
   "execution_count": 101,
   "metadata": {},
   "outputs": [],
   "source": [
    "import os\n",
    "from os import listdir"
   ]
  },
  {
   "cell_type": "code",
   "execution_count": 102,
   "metadata": {},
   "outputs": [],
   "source": [
    "#Road PDF\n",
    "\n",
    "def read_doc(path):\n",
    "    file_loader=PyPDFLoader(path)\n",
    "    doc=file_loader.load_and_split()\n",
    "    return doc"
   ]
  },
  {
   "cell_type": "markdown",
   "metadata": {},
   "source": [
    "Checker for function read_doc()"
   ]
  },
  {
   "cell_type": "code",
   "execution_count": 103,
   "metadata": {},
   "outputs": [
    {
     "name": "stdout",
     "output_type": "stream",
     "text": [
      "[Document(page_content='// Time:  O(n)\\n// Space: O(n)\\n// mono stack\\nclass Solution {\\npublic:\\n    long long maximumSumOfHeights(vector<int>& maxHeights) {\\n        vector<int64_t> left(size(maxHeights));\\n        vector<int64_t> stk = {-1};\\n        for (int64_t i = 0, curr = 0; i < size(maxHeights); ++i) {\\n            while (stk.back() != stk[0] && maxHeights[stk.back()] >= maxHeights[i]) {\\n                const int j = stk.back(); stk.pop_back();\\n                curr -= (j - stk.back()) * maxHeights[j];\\n            }\\n            curr += (i - stk.back()) * maxHeights[i];\\n            stk.emplace_back(i);\\n            left[i] = curr;\\n        }\\n        int64_t result = 0, right = 0;\\n        stk = {static_cast<int64_t>(size(maxHeights))};\\n        for (int64_t i = size(maxHeights) - 1, curr = 0; i >= 0; --i) {\\n            while (stk.back() != stk[0] && maxHeights[stk.back()] >= maxHeights[i]) {\\n                const int j = stk.back(); stk.pop_back();\\n                curr -= (stk.back() - j) * maxHeights[j];\\n            }\\n            curr += (stk.back() - i) * maxHeights[i];\\n            stk.emplace_back(i);\\n            right = curr;\\n            result = max(result, left[i] + right - maxHeights[i]);\\n        }\\n        return result;\\n    }\\n};', metadata={'source': '..\\\\Data\\\\beautiful-towers-ii.pdf', 'page': 0})]\n"
     ]
    }
   ],
   "source": [
    "solution=read_doc(\"..\\\\Data\\\\beautiful-towers-ii.pdf\")\n",
    "len(solution)\n",
    "print(solution)"
   ]
  },
  {
   "cell_type": "code",
   "execution_count": 67,
   "metadata": {},
   "outputs": [],
   "source": [
    "#Pick pdf one by one from folder\n",
    "def load_all_pdf():\n",
    "    documents=[]\n",
    "    for file in listdir(\"..\\\\Data\"):\n",
    "        if file.endswith(\".pdf\"):\n",
    "            solution=read_doc(f\"..\\\\Data\\\\{file}\")\n",
    "            documents.append({'file name':file[:-4],'Vector':solution})\n",
    "        # print(solution)\n",
    "    return documents\n",
    "\n"
   ]
  },
  {
   "cell_type": "code",
   "execution_count": 104,
   "metadata": {},
   "outputs": [
    {
     "data": {
      "text/plain": [
       "OpenAIEmbeddings(client=<openai.resources.embeddings.Embeddings object at 0x000002BAF479B560>, async_client=<openai.resources.embeddings.AsyncEmbeddings object at 0x000002BAF46E0560>, model='text-embedding-ada-002', dimensions=None, deployment='text-embedding-ada-002', openai_api_version='', openai_api_base=None, openai_api_type='', openai_proxy='', embedding_ctx_length=8191, openai_api_key=SecretStr('**********'), openai_organization=None, allowed_special=None, disallowed_special=None, chunk_size=1000, max_retries=2, request_timeout=None, headers=None, tiktoken_enabled=True, tiktoken_model_name=None, show_progress_bar=False, model_kwargs={}, skip_empty=False, default_headers=None, default_query=None, retry_min_seconds=4, retry_max_seconds=20, http_client=None, http_async_client=None, check_embedding_ctx_length=True)"
      ]
     },
     "execution_count": 104,
     "metadata": {},
     "output_type": "execute_result"
    }
   ],
   "source": [
    "#Embedding Technique OpenAi Api\n",
    "embeddings=OpenAIEmbeddings(model=os.environ['OPENAI_BASE_MODEL'],api_key=os.environ['OPENAI_API_KEY'])\n",
    "embeddings"
   ]
  },
  {
   "cell_type": "code",
   "execution_count": null,
   "metadata": {},
   "outputs": [],
   "source": [
    "#Testing embedding\n",
    "vectors=embeddings.embed_query('hello')\n",
    "len(vectors) #To find size of vector data base needed"
   ]
  },
  {
   "cell_type": "code",
   "execution_count": 110,
   "metadata": {},
   "outputs": [],
   "source": [
    "#Making dataframe from the provided data frame\n",
    "doc=load_all_pdf()\n",
    "vector_embedding=pd.DataFrame(doc)\n",
    "vector_embedding.to_csv('..\\\\Data_Set\\\\data.csv',index=False)\n"
   ]
  }
 ],
 "metadata": {
  "kernelspec": {
   "display_name": "Python 3",
   "language": "python",
   "name": "python3"
  },
  "language_info": {
   "codemirror_mode": {
    "name": "ipython",
    "version": 3
   },
   "file_extension": ".py",
   "mimetype": "text/x-python",
   "name": "python",
   "nbconvert_exporter": "python",
   "pygments_lexer": "ipython3",
   "version": "3.12.0"
  }
 },
 "nbformat": 4,
 "nbformat_minor": 2
}
